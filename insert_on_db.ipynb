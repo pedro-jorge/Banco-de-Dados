{
 "cells": [
  {
   "cell_type": "code",
   "execution_count": 1,
   "metadata": {},
   "outputs": [],
   "source": [
    "import pandas as pd\n",
    "import os\n",
    "import mysql.connector\n",
    "import warnings\n",
    "warnings.filterwarnings(\"ignore\")\n",
    "\n",
    "path = os.getcwd() + \"/csv_data\""
   ]
  },
  {
   "cell_type": "markdown",
   "metadata": {},
   "source": [
    "## Carregando os dados já tratados"
   ]
  },
  {
   "cell_type": "code",
   "execution_count": 2,
   "metadata": {},
   "outputs": [
    {
     "data": {
      "text/plain": [
       "['genre',\n",
       " 'rating',\n",
       " 'actor',\n",
       " 'director',\n",
       " 'content',\n",
       " 'type',\n",
       " 'content_cast',\n",
       " 'content_rating',\n",
       " 'content_type',\n",
       " 'content_director',\n",
       " 'content_genre',\n",
       " 'movie_duration',\n",
       " 'tv_show_duration']"
      ]
     },
     "execution_count": 2,
     "metadata": {},
     "output_type": "execute_result"
    }
   ],
   "source": [
    "# é necessário separar em duas partes \n",
    "# as tabelas \"principais\" precisam ser adicionadas antes para preservar a ordem de inserção\n",
    "# do contrário, se a ordem alfabética, há erro de integridade\n",
    "df_paths = [file.split(\".csv\")[0] for file in os.listdir(path) if \".csv\" in file and \"_\" not in file]\n",
    "df_paths += [file.split(\".csv\")[0] for file in os.listdir(path) if \".csv\" in file and \"_\" in file]\n",
    "df_paths"
   ]
  },
  {
   "cell_type": "code",
   "execution_count": 3,
   "metadata": {},
   "outputs": [],
   "source": [
    "dataframes = {}\n",
    "for df in df_paths:\n",
    "    dataframes[df] = pd.read_csv(f\"{path}/{df}.csv\")"
   ]
  },
  {
   "cell_type": "markdown",
   "metadata": {},
   "source": [
    "## Enviando os dados para o MySQL"
   ]
  },
  {
   "cell_type": "code",
   "execution_count": 4,
   "metadata": {},
   "outputs": [],
   "source": [
    "conn = mysql.connector.connect(\n",
    "    host=\"localhost\",\n",
    "    user=\"root\",\n",
    "    password=\"Pedro051220011-\",\n",
    "    database=\"netflix\"\n",
    ")\n",
    "\n",
    "cursor = conn.cursor()"
   ]
  },
  {
   "cell_type": "code",
   "execution_count": 5,
   "metadata": {},
   "outputs": [],
   "source": [
    "# para cada dataframe, há uma tabela correspondente\n",
    "# iremos iterar por cada um dos dataframes que abrimos\n",
    "for df in dataframes.keys():\n",
    "    exception = False\n",
    "    # estando em um dataframe, iremos iterar por todas as suas linhas\n",
    "    # as linhas serão também as linhas na tabela correspondente no MySQL\n",
    "    for idx, row in dataframes[df].iterrows():\n",
    "        data = \"\"\n",
    "        for value in row.values:\n",
    "            if pd.isna(value):\n",
    "                data += \"NULL, \"\n",
    "            elif isinstance(value, str):\n",
    "                value = value.replace(\"'\", \"\")\n",
    "                data += f\"'{value}', \"\n",
    "            else:\n",
    "                data += f\"{value}, \"\n",
    "        data = data[:-2]\n",
    "        \n",
    "        insert_query_str = \"INSERT INTO {} VALUES ({})\".format(df, data)\n",
    "\n",
    "        # caso alguma inserção dê erro, interrompemos a execução para ver o que aconteceu\n",
    "        try:\n",
    "            cursor.execute(insert_query_str)\n",
    "        except Exception as e:\n",
    "            print(insert_query_str)\n",
    "            print(e)\n",
    "            exception = True\n",
    "            break \n",
    "    if exception:\n",
    "        break\n",
    "\n",
    "# só escrevemos as mudanças no banco se todas as inserções foram bem sucedidas\n",
    "if not exception:\n",
    "    conn.commit()"
   ]
  }
 ],
 "metadata": {
  "kernelspec": {
   "display_name": "base",
   "language": "python",
   "name": "python3"
  },
  "language_info": {
   "codemirror_mode": {
    "name": "ipython",
    "version": 3
   },
   "file_extension": ".py",
   "mimetype": "text/x-python",
   "name": "python",
   "nbconvert_exporter": "python",
   "pygments_lexer": "ipython3",
   "version": "3.11.4"
  }
 },
 "nbformat": 4,
 "nbformat_minor": 2
}
